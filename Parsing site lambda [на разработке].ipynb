{
 "cells": [
  {
   "cell_type": "code",
   "execution_count": null,
   "metadata": {
    "collapsed": true
   },
   "outputs": [],
   "source": [
    "#lamoda shoes\n",
    "\n",
    "index_data = 0\n",
    "\n",
    "min_page = 1\n",
    "max_page = 334\n",
    "\n",
    "for index in range(min_page, max_page+1):\n",
    "    response = requests.get('http://www.lamoda.ru/c/15/shoes-women/?genders=women%2Cunisex&page=' + str(index))  \n",
    "    parsed_body = html.fromstring(response.text)\n",
    "\n",
    "    # Парсим ссылки с картинками\n",
    "    images = parsed_body.xpath('//img[@class = \"products-list-item__img\"]/@src') \n",
    "    brand = parsed_body.xpath('//div[@class = \"products-list-item__brand\"]/text()')\n",
    "    images_href = parsed_body.xpath('//a[@class = \"products-list-item__link link\"]/@href')\n",
    "    if not images_href:  \n",
    "            sys.exit(\"Found No Images\")\n",
    "\n",
    "    # Конвертирование всех относительных ссылок в абсолютные\n",
    "    images_href = [urlparse.urljoin(response.url, url) for url in images_href]  \n",
    "    print 'Found %s images' % len(images) + ' and it is index %s' % index + ' of %s' % max_page\n",
    "\n",
    "    # Скачиваем\n",
    "    for index_url in range(0,len(images_href)):\n",
    "        response = requests.get(images_href[index_url])  \n",
    "        parsed_body = html.fromstring(response.text)\n",
    "        image = parsed_body.xpath('//img[@class = \"showcase__item-image\"]/@src')\n",
    "        #image = [urlparse.urljoin(response.url, url)]\n",
    "        types = parsed_body.xpath('//span[@itemprop = \"title\"]/text()')\n",
    "        try: \n",
    "            r = requests.get('http://' + image[0][2:])\n",
    "        except Exception:\n",
    "            print 'error'\n",
    "        file_name = images[index_url].split('/')[-1]\n",
    "        f = open(SAVE_DATASET_DIR + file_name, 'w')\n",
    "        f.write(r.content)\n",
    "        f.close()\n",
    "        typ = types[3:]\n",
    "        dataset3.loc[index_data] = [file_name, typ[0], brand[index_url*2 - 2], typ[-1]]\n",
    "        index_data = index_data + 1"
   ]
  },
  {
   "cell_type": "code",
   "execution_count": null,
   "metadata": {
    "collapsed": true
   },
   "outputs": [],
   "source": [
    "import requests  \n",
    "from lxml import html  \n",
    "import sys  \n",
    "import urlparse\n",
    "import pandas as pd\n",
    "import numpy as np\n",
    "import time\n",
    "\n",
    "DIRPATH = 'lamoda/'\n"
   ]
  },
  {
   "cell_type": "code",
   "execution_count": null,
   "metadata": {
    "collapsed": true
   },
   "outputs": [],
   "source": [
    "dataset = pd.DataFrame(columns=['file_name', 'category', 'brand'])\n",
    "types = ['top', 'middle', 'bottom']\n",
    "pages = ['http://www.lamoda.ru/c/397/clothes-d-insy/?genders=women%2Cunisex&page=',\n",
    "        'http://www.lamoda.ru/c/423/clothes-yubki/?genders=women%2Cunisex&page=',\n",
    "        'http://www.lamoda.ru/c/401/clothes-bryuki-shorty-kombinezony/?genders=women%2Cunisex&page=',\n",
    "        'http://www.lamoda.ru/c/2485/clothes-shorty/?genders=women%2Cunisex&page=',\n",
    "        'http://www.lamoda.ru/c/399/clothes-bluzy-rubashki/?genders=women%2Cunisex&page=',\n",
    "        'http://www.lamoda.ru/c/371/clothes-trikotazh/?genders=women%2Cunisex&page=',\n",
    "        'http://www.lamoda.ru/c/2474/clothes-tolstovki-olimpiyki/?genders=women%2Cunisex&page=',\n",
    "        'http://www.lamoda.ru/c/2627/clothes-topy/?genders=women%2Cunisex&page=',\n",
    "        'http://www.lamoda.ru/c/2478/clothes-futbolki/?genders=women%2Cunisex&page=',\n",
    "        'http://www.lamoda.ru/c/4748/clothes-womtuniki/?genders=women%2Cunisex&page=']\n",
    "        #'http://www.lamoda.ru/c/15/shoes-women/?genders=women%2Cunisex&page=']\n",
    "catgories = ['jeans', 'skirts', 'pants', 'shorts', 'shirts', 'jampers', 'sweatshirts', 'tops', 't-shirts', 'tunics']\n",
    "max_pages = [43, 57, 84, 10, 98, 153, 42, 40, 76, 15]"
   ]
  },
  {
   "cell_type": "code",
   "execution_count": null,
   "metadata": {
    "collapsed": true
   },
   "outputs": [],
   "source": [
    "\n",
    "index_data = 0\n",
    "\n",
    "for index in range(1, max_pages[i]):\n",
    "    response = requests.get(pages[i] + str(index))  \n",
    "    parsed_body = html.fromstring(response.text)\n",
    "\n",
    "    # Парсим ссылки с картинками\n",
    "    images = parsed_body.xpath('//img[@class = \"products-list-item__img\"]/@src') \n",
    "    brand = parsed_body.xpath('//div[@class = \"products-list-item__brand\"]/text()')\n",
    "    images_href = parsed_body.xpath('//a[@class = \"products-list-item__link link\"]/@href')\n",
    "    if not images_href:  \n",
    "            sys.exit(\"Found No Images\")\n",
    "\n",
    "    # Конвертирование всех относительных ссылок в абсолютные\n",
    "    images_href = [urlparse.urljoin(response.url, url) for url in images_href]  \n",
    "\n",
    "    # Скачиваем\n",
    "    for index_url in range(0,len(images_href)):\n",
    "        response = requests.get(images_href[index_url])  \n",
    "        parsed_body = html.fromstring(response.text)\n",
    "        image = parsed_body.xpath('//img[@class = \"showcase__item-image\"]/@src')\n",
    "        #image = [urlparse.urljoin(response.url, url)]\n",
    "        try: \n",
    "            r = requests.get('http://' + image[0][2:])\n",
    "        except Exception:\n",
    "            print 'error'\n",
    "        file_name = images[index_url].split('/')[-1]\n",
    "        f = open(SAVE_DATASET_DIR + file_name, 'w')\n",
    "        f.write(r.content)\n",
    "        f.close()\n",
    "        dataset.loc[index_data] = [file_name, categories[i], brand[index_url*2 - 2]]\n",
    "        index_data = index_data + 1"
   ]
  }
 ],
 "metadata": {
  "kernelspec": {
   "display_name": "Python 2",
   "language": "python",
   "name": "python2"
  },
  "language_info": {
   "codemirror_mode": {
    "name": "ipython",
    "version": 2
   },
   "file_extension": ".py",
   "mimetype": "text/x-python",
   "name": "python",
   "nbconvert_exporter": "python",
   "pygments_lexer": "ipython2",
   "version": "2.7.13"
  }
 },
 "nbformat": 4,
 "nbformat_minor": 0
}
