{
 "cells": [
  {
   "cell_type": "code",
   "execution_count": 1,
   "metadata": {
    "collapsed": true
   },
   "outputs": [],
   "source": [
    "import numpy as np\n",
    "import pandas as pd\n",
    "from random import randint\n",
    "from collections import Counter"
   ]
  },
  {
   "cell_type": "code",
   "execution_count": 2,
   "metadata": {
    "collapsed": true
   },
   "outputs": [],
   "source": [
    "def delete_duplicates(dataset, what_duplicates):\n",
    "    c = Counter({el: count for el, count in Counter(what_duplicates).items() if count > 1})\n",
    "    list_names = list()\n",
    "    for ind in range(0,len(c.items())):\n",
    "        list_names.append(c.items()[ind][0])\n",
    "    list_ind = list()\n",
    "    for i in range(0,len(list_names)):\n",
    "        list_ind.append(dataset[what_duplicates == list_names[i]].index.values)\n",
    "    indlist = list()\n",
    "    for i in range(1,len(list_ind)):\n",
    "        indlist.append(list_ind[i][0])\n",
    "    dataset = dataset.drop(indlist,0)\n",
    "    print 'del objects ' + str(len(c))\n",
    "    dataset.index = range(0,len(dataset))\n",
    "    return dataset"
   ]
  },
  {
   "cell_type": "markdown",
   "metadata": {},
   "source": [
    "# Построение датасета с положительными примерами на основе парсинга файла логов"
   ]
  },
  {
   "cell_type": "code",
   "execution_count": 3,
   "metadata": {
    "collapsed": true
   },
   "outputs": [],
   "source": [
    "data = list()\n",
    "with open('logs.log', 'r') as logfile: #файл логов надо скачать\n",
    "    for line in logfile.readlines():\n",
    "        if '+' in line:\n",
    "            if 'http' in line:  #некоторые логи без картинок \n",
    "                data.append(line)\n",
    "data = data[23:] #первые 23 кривые"
   ]
  },
  {
   "cell_type": "code",
   "execution_count": 4,
   "metadata": {
    "collapsed": true
   },
   "outputs": [],
   "source": [
    "users = list()\n",
    "for line in data:\n",
    "    users.append(line[44:].split(\":\")[0])\n",
    "top = list()\n",
    "for line in data:\n",
    "    top.append(line[44:].split(\"/\")[6].split(\" \")[0] + '/' + line[44:].split(\"/\")[7].split(\" \")[0])\n",
    "middle = list()\n",
    "for line in data:\n",
    "    middle.append(line[44:].split(\"/\")[13].split(\" \")[0] + '/' + line[44:].split(\"/\")[14].split(\" \")[0])\n",
    "bottom = list()\n",
    "for line in data:\n",
    "    bottom.append(line[44:].split(\"/\")[-2].split(\"\\n\")[0] + '/' + line[44:].split(\"/\")[-1].split(\"\\n\")[0])"
   ]
  },
  {
   "cell_type": "code",
   "execution_count": 5,
   "metadata": {
    "collapsed": false
   },
   "outputs": [
    {
     "data": {
      "text/html": [
       "<div>\n",
       "<table border=\"1\" class=\"dataframe\">\n",
       "  <thead>\n",
       "    <tr style=\"text-align: right;\">\n",
       "      <th></th>\n",
       "      <th>users</th>\n",
       "      <th>top</th>\n",
       "      <th>middle</th>\n",
       "      <th>bottom</th>\n",
       "    </tr>\n",
       "  </thead>\n",
       "  <tbody>\n",
       "    <tr>\n",
       "      <th>0</th>\n",
       "      <td>alex_test</td>\n",
       "      <td>jampers/OO001EWPJQ27_4190535_1_v2.jpg</td>\n",
       "      <td>pants/IC647EWMWF91_4177819_1_v1.jpg</td>\n",
       "      <td>shoes/PT001AWNYQ43_4094966_1_v1.jpg</td>\n",
       "    </tr>\n",
       "    <tr>\n",
       "      <th>1</th>\n",
       "      <td>strak</td>\n",
       "      <td>jampers/TO029EWMOQ83_3943245_1_v1.jpg</td>\n",
       "      <td>pants/IN002EWLKW42_1_v1.jpg</td>\n",
       "      <td>shoes/CA086AWLTL36_1_v1.jpg</td>\n",
       "    </tr>\n",
       "    <tr>\n",
       "      <th>2</th>\n",
       "      <td>strak</td>\n",
       "      <td>jampers/BA007EWLBR09_1_v2.jpg</td>\n",
       "      <td>jeans/AL006EWIIB35_1_v1.jpg</td>\n",
       "      <td>high_heels/AN003AWKYU95_1_v1.jpg</td>\n",
       "    </tr>\n",
       "    <tr>\n",
       "      <th>3</th>\n",
       "      <td>strak</td>\n",
       "      <td>t-shirts/OO001EWMNY57_1_v2.jpg</td>\n",
       "      <td>shorts/OO001EWIFC88_1_v2.jpg</td>\n",
       "      <td>sneakers/AN048AWIXE16_1_v1.jpg</td>\n",
       "    </tr>\n",
       "    <tr>\n",
       "      <th>4</th>\n",
       "      <td>default_user</td>\n",
       "      <td>jampers/PE299EWNFQ41_3956785_1_v2.jpg</td>\n",
       "      <td>jeans/DO005EWKNA36_1_v1.jpg</td>\n",
       "      <td>boots/CA072AWNEN67_3972704_1_v1.jpg</td>\n",
       "    </tr>\n",
       "  </tbody>\n",
       "</table>\n",
       "</div>"
      ],
      "text/plain": [
       "          users                                    top  \\\n",
       "0     alex_test  jampers/OO001EWPJQ27_4190535_1_v2.jpg   \n",
       "1         strak  jampers/TO029EWMOQ83_3943245_1_v1.jpg   \n",
       "2         strak          jampers/BA007EWLBR09_1_v2.jpg   \n",
       "3         strak         t-shirts/OO001EWMNY57_1_v2.jpg   \n",
       "4  default_user  jampers/PE299EWNFQ41_3956785_1_v2.jpg   \n",
       "\n",
       "                                middle                               bottom  \n",
       "0  pants/IC647EWMWF91_4177819_1_v1.jpg  shoes/PT001AWNYQ43_4094966_1_v1.jpg  \n",
       "1          pants/IN002EWLKW42_1_v1.jpg          shoes/CA086AWLTL36_1_v1.jpg  \n",
       "2          jeans/AL006EWIIB35_1_v1.jpg     high_heels/AN003AWKYU95_1_v1.jpg  \n",
       "3         shorts/OO001EWIFC88_1_v2.jpg       sneakers/AN048AWIXE16_1_v1.jpg  \n",
       "4          jeans/DO005EWKNA36_1_v1.jpg  boots/CA072AWNEN67_3972704_1_v1.jpg  "
      ]
     },
     "execution_count": 5,
     "metadata": {},
     "output_type": "execute_result"
    }
   ],
   "source": [
    "dataset = pd.DataFrame(data = [users,top,middle,bottom]).transpose()\n",
    "columns = ['users','top','middle','bottom']\n",
    "dataset.columns = columns\n",
    "dataset.head(5)"
   ]
  },
  {
   "cell_type": "code",
   "execution_count": 6,
   "metadata": {
    "collapsed": false
   },
   "outputs": [
    {
     "name": "stdout",
     "output_type": "stream",
     "text": [
      "del objects 73\n"
     ]
    }
   ],
   "source": [
    "#удалим одинаковые луки (которые дублировались в процессе ошибочных действий на сайте)\n",
    "dataset = delete_duplicates(dataset,dataset.top + dataset.middle + dataset.bottom)"
   ]
  },
  {
   "cell_type": "code",
   "execution_count": 7,
   "metadata": {
    "collapsed": false
   },
   "outputs": [
    {
     "data": {
      "text/html": [
       "<div>\n",
       "<table border=\"1\" class=\"dataframe\">\n",
       "  <thead>\n",
       "    <tr style=\"text-align: right;\">\n",
       "      <th></th>\n",
       "      <th>users</th>\n",
       "      <th>top</th>\n",
       "      <th>middle</th>\n",
       "      <th>bottom</th>\n",
       "    </tr>\n",
       "  </thead>\n",
       "  <tbody>\n",
       "    <tr>\n",
       "      <th>0</th>\n",
       "      <td>alex_test</td>\n",
       "      <td>jampers/OO001EWPJQ27_4190535_1_v2.jpg</td>\n",
       "      <td>pants/IC647EWMWF91_4177819_1_v1.jpg</td>\n",
       "      <td>shoes/PT001AWNYQ43_4094966_1_v1.jpg</td>\n",
       "    </tr>\n",
       "    <tr>\n",
       "      <th>1</th>\n",
       "      <td>strak</td>\n",
       "      <td>jampers/TO029EWMOQ83_3943245_1_v1.jpg</td>\n",
       "      <td>pants/IN002EWLKW42_1_v1.jpg</td>\n",
       "      <td>shoes/CA086AWLTL36_1_v1.jpg</td>\n",
       "    </tr>\n",
       "  </tbody>\n",
       "</table>\n",
       "</div>"
      ],
      "text/plain": [
       "       users                                    top  \\\n",
       "0  alex_test  jampers/OO001EWPJQ27_4190535_1_v2.jpg   \n",
       "1      strak  jampers/TO029EWMOQ83_3943245_1_v1.jpg   \n",
       "\n",
       "                                middle                               bottom  \n",
       "0  pants/IC647EWMWF91_4177819_1_v1.jpg  shoes/PT001AWNYQ43_4094966_1_v1.jpg  \n",
       "1          pants/IN002EWLKW42_1_v1.jpg          shoes/CA086AWLTL36_1_v1.jpg  "
      ]
     },
     "execution_count": 7,
     "metadata": {},
     "output_type": "execute_result"
    }
   ],
   "source": [
    "dataset.head(2)"
   ]
  },
  {
   "cell_type": "code",
   "execution_count": 8,
   "metadata": {
    "collapsed": true
   },
   "outputs": [],
   "source": [
    "dataset.to_csv(\"csv/good_looks.csv\",index=False)"
   ]
  },
  {
   "cell_type": "markdown",
   "metadata": {},
   "source": [
    "# Построение отрицательных примеров случайным образом из всех соответствующих по типу(верх-низ) категориям"
   ]
  },
  {
   "cell_type": "code",
   "execution_count": 9,
   "metadata": {
    "collapsed": true
   },
   "outputs": [],
   "source": [
    "lamoda = pd.read_csv('csv/lamoda_without_spaces.csv')"
   ]
  },
  {
   "cell_type": "code",
   "execution_count": 10,
   "metadata": {
    "collapsed": false
   },
   "outputs": [
    {
     "data": {
      "text/plain": [
       "array(['Flats', 'Sandals', 'Ankle_boots', 'Shoes', 'Jackboots',\n",
       "       'Snowjoggers', 'Sneakers', 'Loafers', 'New_year_shoes', 'Clogs',\n",
       "       'Boots', 'Slip-ons', 'High_Heels', 'Uggs', 'Slippers',\n",
       "       'Espadrilles', 'shirts', 'jampers', 'sweatshirts', 'tops',\n",
       "       't-shirts', 'tunics', 'jeans', 'skirts', 'pants', 'shorts'], dtype=object)"
      ]
     },
     "execution_count": 10,
     "metadata": {},
     "output_type": "execute_result"
    }
   ],
   "source": [
    "lamoda.category.unique()"
   ]
  },
  {
   "cell_type": "code",
   "execution_count": 11,
   "metadata": {
    "collapsed": false
   },
   "outputs": [
    {
     "data": {
      "text/html": [
       "<div>\n",
       "<table border=\"1\" class=\"dataframe\">\n",
       "  <thead>\n",
       "    <tr style=\"text-align: right;\">\n",
       "      <th></th>\n",
       "      <th>Unnamed: 0</th>\n",
       "      <th>file_name</th>\n",
       "      <th>category</th>\n",
       "      <th>brand</th>\n",
       "      <th>type</th>\n",
       "    </tr>\n",
       "  </thead>\n",
       "  <tbody>\n",
       "    <tr>\n",
       "      <th>0</th>\n",
       "      <td>0</td>\n",
       "      <td>AL028AWKIN88_1_v1.jpg</td>\n",
       "      <td>Flats</td>\n",
       "      <td>Crosby</td>\n",
       "      <td>bottom</td>\n",
       "    </tr>\n",
       "    <tr>\n",
       "      <th>1</th>\n",
       "      <td>1</td>\n",
       "      <td>AL030AWHZR15_1_v1.jpg</td>\n",
       "      <td>Flats</td>\n",
       "      <td>Guapissima</td>\n",
       "      <td>bottom</td>\n",
       "    </tr>\n",
       "  </tbody>\n",
       "</table>\n",
       "</div>"
      ],
      "text/plain": [
       "   Unnamed: 0              file_name category         brand    type\n",
       "0           0  AL028AWKIN88_1_v1.jpg    Flats       Crosby   bottom\n",
       "1           1  AL030AWHZR15_1_v1.jpg    Flats   Guapissima   bottom"
      ]
     },
     "execution_count": 11,
     "metadata": {},
     "output_type": "execute_result"
    }
   ],
   "source": [
    "lamoda.head(2)"
   ]
  },
  {
   "cell_type": "code",
   "execution_count": 12,
   "metadata": {
    "collapsed": false
   },
   "outputs": [],
   "source": [
    "lamoda = lamoda.drop(lamoda[lamoda.category == 'New_year_shoes'].index,0)\n",
    "lamoda = lamoda.drop('Unnamed: 0',1)"
   ]
  },
  {
   "cell_type": "code",
   "execution_count": 13,
   "metadata": {
    "collapsed": true
   },
   "outputs": [],
   "source": [
    "#файл ламода содержит не уникальные file_name"
   ]
  },
  {
   "cell_type": "code",
   "execution_count": 14,
   "metadata": {
    "collapsed": false
   },
   "outputs": [
    {
     "data": {
      "text/plain": [
       "False"
      ]
     },
     "execution_count": 14,
     "metadata": {},
     "output_type": "execute_result"
    }
   ],
   "source": [
    "lamoda.file_name.is_unique"
   ]
  },
  {
   "cell_type": "code",
   "execution_count": 15,
   "metadata": {
    "collapsed": true
   },
   "outputs": [],
   "source": [
    "#картинки с повтором одинаковые (просмотрено глазами), можно их удалять"
   ]
  },
  {
   "cell_type": "code",
   "execution_count": 16,
   "metadata": {
    "collapsed": false
   },
   "outputs": [
    {
     "name": "stdout",
     "output_type": "stream",
     "text": [
      "del objects 35\n"
     ]
    }
   ],
   "source": [
    "lamoda = delete_duplicates(lamoda, lamoda.file_name)"
   ]
  },
  {
   "cell_type": "code",
   "execution_count": 17,
   "metadata": {
    "collapsed": true
   },
   "outputs": [],
   "source": [
    "top_min_index = lamoda[lamoda.type == 'top'].index[0]\n",
    "top_max_index = lamoda[lamoda.type == 'top'].index[len(lamoda[lamoda.type == 'top'].index)-1]\n",
    "middle_min_index = lamoda[lamoda.type == 'middle'].index[0]\n",
    "middle_max_index = lamoda[lamoda.type == 'middle'].index[len(lamoda[lamoda.type == 'middle'].index)-1]\n",
    "bottom_min_index = lamoda[lamoda.type == 'bottom'].index[0]\n",
    "bottom_max_index = lamoda[lamoda.type == 'bottom'].index[len(lamoda[lamoda.type == 'bottom'].index)-1]"
   ]
  },
  {
   "cell_type": "code",
   "execution_count": 18,
   "metadata": {
    "collapsed": false
   },
   "outputs": [
    {
     "name": "stdout",
     "output_type": "stream",
     "text": [
      "CPU times: user 5min 14s, sys: 34.6 s, total: 5min 49s\n",
      "Wall time: 7min 16s\n"
     ]
    }
   ],
   "source": [
    "%%time\n",
    "data_negative = list()\n",
    "for i in range(0,len(dataset) * 5):\n",
    "    top = randint(top_min_index,top_max_index)\n",
    "    middle = randint(middle_min_index,middle_max_index)\n",
    "    bottom = randint(bottom_min_index,bottom_max_index)\n",
    "    data_negative.append([lamoda[lamoda.type == 'top'].loc[top].category + '/' +\n",
    "                    lamoda[lamoda.type == 'top'].loc[top].file_name, \n",
    "                    lamoda[lamoda.type == 'middle'].loc[middle].category + '/' +\n",
    "                    lamoda[lamoda.type == 'middle'].loc[middle].file_name, \n",
    "                    lamoda[lamoda.type == 'bottom'].loc[bottom].category + '/' +\n",
    "                    lamoda[lamoda.type == 'bottom'].loc[bottom].file_name, 0])\n",
    "#negative_dataset = pd.DataFrame(data = data_negative, columns = ['top','middle','bottom, y'])"
   ]
  },
  {
   "cell_type": "code",
   "execution_count": 19,
   "metadata": {
    "collapsed": false
   },
   "outputs": [],
   "source": [
    "negative_dataset = pd.DataFrame(data = data_negative, columns = ['top','middle','bottom', 'y'])"
   ]
  },
  {
   "cell_type": "code",
   "execution_count": 20,
   "metadata": {
    "collapsed": false
   },
   "outputs": [
    {
     "data": {
      "text/html": [
       "<div>\n",
       "<table border=\"1\" class=\"dataframe\">\n",
       "  <thead>\n",
       "    <tr style=\"text-align: right;\">\n",
       "      <th></th>\n",
       "      <th>top</th>\n",
       "      <th>middle</th>\n",
       "      <th>bottom</th>\n",
       "      <th>y</th>\n",
       "    </tr>\n",
       "  </thead>\n",
       "  <tbody>\n",
       "    <tr>\n",
       "      <th>0</th>\n",
       "      <td>t-shirts/OO001EWHCY64_1_v2.jpg</td>\n",
       "      <td>pants/NI464EWJGB68_1_v1.jpg</td>\n",
       "      <td>High_Heels/DA016AWKKG26_1_v1.jpg</td>\n",
       "      <td>0</td>\n",
       "    </tr>\n",
       "    <tr>\n",
       "      <th>1</th>\n",
       "      <td>t-shirts/PE299EWNFQ75_3954957_1_v2.jpg</td>\n",
       "      <td>skirts/ZA004EWMRE08_4024690_1_v1.jpg</td>\n",
       "      <td>Sandals/DO030AWIVV36_1_v1.jpg</td>\n",
       "      <td>0</td>\n",
       "    </tr>\n",
       "    <tr>\n",
       "      <th>2</th>\n",
       "      <td>jampers/OO001EWOCV49_4071153_1_v3.jpg</td>\n",
       "      <td>pants/OO001EWLAT03_1_v1.jpg</td>\n",
       "      <td>Espadrilles/KA028AWIFX60_1_v1.jpg</td>\n",
       "      <td>0</td>\n",
       "    </tr>\n",
       "  </tbody>\n",
       "</table>\n",
       "</div>"
      ],
      "text/plain": [
       "                                      top  \\\n",
       "0          t-shirts/OO001EWHCY64_1_v2.jpg   \n",
       "1  t-shirts/PE299EWNFQ75_3954957_1_v2.jpg   \n",
       "2   jampers/OO001EWOCV49_4071153_1_v3.jpg   \n",
       "\n",
       "                                 middle                             bottom  y  \n",
       "0           pants/NI464EWJGB68_1_v1.jpg   High_Heels/DA016AWKKG26_1_v1.jpg  0  \n",
       "1  skirts/ZA004EWMRE08_4024690_1_v1.jpg      Sandals/DO030AWIVV36_1_v1.jpg  0  \n",
       "2           pants/OO001EWLAT03_1_v1.jpg  Espadrilles/KA028AWIFX60_1_v1.jpg  0  "
      ]
     },
     "execution_count": 20,
     "metadata": {},
     "output_type": "execute_result"
    }
   ],
   "source": [
    "negative_dataset.head(3)"
   ]
  },
  {
   "cell_type": "markdown",
   "metadata": {},
   "source": [
    "# Соединяем датасет с положительными примерами и негативными"
   ]
  },
  {
   "cell_type": "code",
   "execution_count": 21,
   "metadata": {
    "collapsed": false
   },
   "outputs": [],
   "source": [
    "#Полный датасет с положительными и негативными примерами\n",
    "y = pd.DataFrame(data = np.ones(len(dataset)), columns = ['y'])\n",
    "Data = dataset.join(y)"
   ]
  },
  {
   "cell_type": "code",
   "execution_count": 22,
   "metadata": {
    "collapsed": false
   },
   "outputs": [],
   "source": [
    "Data = Data.append(negative_dataset)\n",
    "Data.index = range(0,len(Data))"
   ]
  },
  {
   "cell_type": "code",
   "execution_count": 23,
   "metadata": {
    "collapsed": false
   },
   "outputs": [
    {
     "name": "stdout",
     "output_type": "stream",
     "text": [
      "del objects 4\n"
     ]
    }
   ],
   "source": [
    "#удалим совпадения в нагенерированных сочетаниях и хороших луках\n",
    "Data = delete_duplicates(Data,Data.top + Data.middle + Data.bottom)"
   ]
  },
  {
   "cell_type": "code",
   "execution_count": 25,
   "metadata": {
    "collapsed": false
   },
   "outputs": [],
   "source": [
    "Data.to_csv('csv/DATASET_3a.csv',index=False)"
   ]
  },
  {
   "cell_type": "code",
   "execution_count": 26,
   "metadata": {
    "collapsed": false
   },
   "outputs": [
    {
     "data": {
      "text/html": [
       "<div>\n",
       "<table border=\"1\" class=\"dataframe\">\n",
       "  <thead>\n",
       "    <tr style=\"text-align: right;\">\n",
       "      <th></th>\n",
       "      <th>bottom</th>\n",
       "      <th>middle</th>\n",
       "      <th>top</th>\n",
       "      <th>users</th>\n",
       "      <th>y</th>\n",
       "    </tr>\n",
       "  </thead>\n",
       "  <tbody>\n",
       "    <tr>\n",
       "      <th>0</th>\n",
       "      <td>shoes/PT001AWNYQ43_4094966_1_v1.jpg</td>\n",
       "      <td>pants/IC647EWMWF91_4177819_1_v1.jpg</td>\n",
       "      <td>jampers/OO001EWPJQ27_4190535_1_v2.jpg</td>\n",
       "      <td>alex_test</td>\n",
       "      <td>1.0</td>\n",
       "    </tr>\n",
       "    <tr>\n",
       "      <th>1</th>\n",
       "      <td>shoes/CA086AWLTL36_1_v1.jpg</td>\n",
       "      <td>pants/IN002EWLKW42_1_v1.jpg</td>\n",
       "      <td>jampers/TO029EWMOQ83_3943245_1_v1.jpg</td>\n",
       "      <td>strak</td>\n",
       "      <td>1.0</td>\n",
       "    </tr>\n",
       "    <tr>\n",
       "      <th>2</th>\n",
       "      <td>high_heels/AN003AWKYU95_1_v1.jpg</td>\n",
       "      <td>jeans/AL006EWIIB35_1_v1.jpg</td>\n",
       "      <td>jampers/BA007EWLBR09_1_v2.jpg</td>\n",
       "      <td>strak</td>\n",
       "      <td>1.0</td>\n",
       "    </tr>\n",
       "    <tr>\n",
       "      <th>3</th>\n",
       "      <td>sneakers/AN048AWIXE16_1_v1.jpg</td>\n",
       "      <td>shorts/OO001EWIFC88_1_v2.jpg</td>\n",
       "      <td>t-shirts/OO001EWMNY57_1_v2.jpg</td>\n",
       "      <td>strak</td>\n",
       "      <td>1.0</td>\n",
       "    </tr>\n",
       "    <tr>\n",
       "      <th>4</th>\n",
       "      <td>boots/CA072AWNEN67_3972704_1_v1.jpg</td>\n",
       "      <td>jeans/DO005EWKNA36_1_v1.jpg</td>\n",
       "      <td>jampers/PE299EWNFQ41_3956785_1_v2.jpg</td>\n",
       "      <td>default_user</td>\n",
       "      <td>1.0</td>\n",
       "    </tr>\n",
       "  </tbody>\n",
       "</table>\n",
       "</div>"
      ],
      "text/plain": [
       "                                bottom                               middle  \\\n",
       "0  shoes/PT001AWNYQ43_4094966_1_v1.jpg  pants/IC647EWMWF91_4177819_1_v1.jpg   \n",
       "1          shoes/CA086AWLTL36_1_v1.jpg          pants/IN002EWLKW42_1_v1.jpg   \n",
       "2     high_heels/AN003AWKYU95_1_v1.jpg          jeans/AL006EWIIB35_1_v1.jpg   \n",
       "3       sneakers/AN048AWIXE16_1_v1.jpg         shorts/OO001EWIFC88_1_v2.jpg   \n",
       "4  boots/CA072AWNEN67_3972704_1_v1.jpg          jeans/DO005EWKNA36_1_v1.jpg   \n",
       "\n",
       "                                     top         users    y  \n",
       "0  jampers/OO001EWPJQ27_4190535_1_v2.jpg     alex_test  1.0  \n",
       "1  jampers/TO029EWMOQ83_3943245_1_v1.jpg         strak  1.0  \n",
       "2          jampers/BA007EWLBR09_1_v2.jpg         strak  1.0  \n",
       "3         t-shirts/OO001EWMNY57_1_v2.jpg         strak  1.0  \n",
       "4  jampers/PE299EWNFQ41_3956785_1_v2.jpg  default_user  1.0  "
      ]
     },
     "execution_count": 26,
     "metadata": {},
     "output_type": "execute_result"
    }
   ],
   "source": [
    "Data.head()"
   ]
  },
  {
   "cell_type": "markdown",
   "metadata": {},
   "source": [
    "# Построение полного датасета с признаками global_pool"
   ]
  },
  {
   "cell_type": "code",
   "execution_count": 27,
   "metadata": {
    "collapsed": false
   },
   "outputs": [
    {
     "name": "stderr",
     "output_type": "stream",
     "text": [
      "//anaconda/lib/python2.7/site-packages/pandas/core/indexing.py:128: SettingWithCopyWarning: \n",
      "A value is trying to be set on a copy of a slice from a DataFrame\n",
      "\n",
      "See the caveats in the documentation: http://pandas.pydata.org/pandas-docs/stable/indexing.html#indexing-view-versus-copy\n",
      "  self._setitem_with_indexer(indexer, value)\n"
     ]
    },
    {
     "name": "stdout",
     "output_type": "stream",
     "text": [
      "CPU times: user 16min 42s, sys: 6.69 s, total: 16min 49s\n",
      "Wall time: 17min 59s\n"
     ]
    }
   ],
   "source": [
    "%%time\n",
    "#приведем к более стандартному виду (file_name без названия папки)\n",
    "for i in range(0,len(Data)):\n",
    "    Data.top.loc[i] = Data.loc[i].top.split('/')[1]\n",
    "    Data.middle.loc[i] = Data.loc[i].middle.split('/')[1]\n",
    "    Data.bottom.loc[i] = Data.loc[i].bottom.split('/')[1]"
   ]
  },
  {
   "cell_type": "code",
   "execution_count": 28,
   "metadata": {
    "collapsed": true
   },
   "outputs": [],
   "source": [
    "global_pool = pd.read_csv('csv/global_dataset.csv')"
   ]
  },
  {
   "cell_type": "code",
   "execution_count": 29,
   "metadata": {
    "collapsed": false
   },
   "outputs": [
    {
     "data": {
      "text/html": [
       "<div>\n",
       "<table border=\"1\" class=\"dataframe\">\n",
       "  <thead>\n",
       "    <tr style=\"text-align: right;\">\n",
       "      <th></th>\n",
       "      <th>file_name</th>\n",
       "      <th>path_to_image</th>\n",
       "      <th>category</th>\n",
       "      <th>brand</th>\n",
       "      <th>type</th>\n",
       "      <th>0</th>\n",
       "      <th>1</th>\n",
       "      <th>2</th>\n",
       "      <th>3</th>\n",
       "      <th>4</th>\n",
       "      <th>...</th>\n",
       "      <th>1014</th>\n",
       "      <th>1015</th>\n",
       "      <th>1016</th>\n",
       "      <th>1017</th>\n",
       "      <th>1018</th>\n",
       "      <th>1019</th>\n",
       "      <th>1020</th>\n",
       "      <th>1021</th>\n",
       "      <th>1022</th>\n",
       "      <th>1023</th>\n",
       "    </tr>\n",
       "  </thead>\n",
       "  <tbody>\n",
       "    <tr>\n",
       "      <th>0</th>\n",
       "      <td>AL028AWKIN88_1_v1.jpg</td>\n",
       "      <td>/Users/Anna/Datasets/downloaded_images/lamoda/...</td>\n",
       "      <td>Flats</td>\n",
       "      <td>Crosby</td>\n",
       "      <td>bottom</td>\n",
       "      <td>1.340799</td>\n",
       "      <td>0.158480</td>\n",
       "      <td>0.232880</td>\n",
       "      <td>0.081647</td>\n",
       "      <td>0.084810</td>\n",
       "      <td>...</td>\n",
       "      <td>0.444015</td>\n",
       "      <td>0.231864</td>\n",
       "      <td>0.038863</td>\n",
       "      <td>0.574036</td>\n",
       "      <td>0.785982</td>\n",
       "      <td>1.726635</td>\n",
       "      <td>1.818732</td>\n",
       "      <td>0.0</td>\n",
       "      <td>0.93984</td>\n",
       "      <td>0.124891</td>\n",
       "    </tr>\n",
       "    <tr>\n",
       "      <th>1</th>\n",
       "      <td>AL030AWHZR15_1_v1.jpg</td>\n",
       "      <td>/Users/Anna/Datasets/downloaded_images/lamoda/...</td>\n",
       "      <td>Flats</td>\n",
       "      <td>Guapissima</td>\n",
       "      <td>bottom</td>\n",
       "      <td>1.972670</td>\n",
       "      <td>0.099346</td>\n",
       "      <td>0.018221</td>\n",
       "      <td>0.501671</td>\n",
       "      <td>0.450996</td>\n",
       "      <td>...</td>\n",
       "      <td>0.000000</td>\n",
       "      <td>1.166205</td>\n",
       "      <td>1.277552</td>\n",
       "      <td>5.164815</td>\n",
       "      <td>0.413175</td>\n",
       "      <td>1.173229</td>\n",
       "      <td>0.375062</td>\n",
       "      <td>0.0</td>\n",
       "      <td>2.22886</td>\n",
       "      <td>0.386066</td>\n",
       "    </tr>\n",
       "  </tbody>\n",
       "</table>\n",
       "<p>2 rows × 1029 columns</p>\n",
       "</div>"
      ],
      "text/plain": [
       "               file_name                                      path_to_image  \\\n",
       "0  AL028AWKIN88_1_v1.jpg  /Users/Anna/Datasets/downloaded_images/lamoda/...   \n",
       "1  AL030AWHZR15_1_v1.jpg  /Users/Anna/Datasets/downloaded_images/lamoda/...   \n",
       "\n",
       "  category         brand    type         0         1         2         3  \\\n",
       "0    Flats       Crosby   bottom  1.340799  0.158480  0.232880  0.081647   \n",
       "1    Flats   Guapissima   bottom  1.972670  0.099346  0.018221  0.501671   \n",
       "\n",
       "          4    ...         1014      1015      1016      1017      1018  \\\n",
       "0  0.084810    ...     0.444015  0.231864  0.038863  0.574036  0.785982   \n",
       "1  0.450996    ...     0.000000  1.166205  1.277552  5.164815  0.413175   \n",
       "\n",
       "       1019      1020  1021     1022      1023  \n",
       "0  1.726635  1.818732   0.0  0.93984  0.124891  \n",
       "1  1.173229  0.375062   0.0  2.22886  0.386066  \n",
       "\n",
       "[2 rows x 1029 columns]"
      ]
     },
     "execution_count": 29,
     "metadata": {},
     "output_type": "execute_result"
    }
   ],
   "source": [
    "global_pool.head(2)"
   ]
  },
  {
   "cell_type": "code",
   "execution_count": 30,
   "metadata": {
    "collapsed": false
   },
   "outputs": [
    {
     "name": "stdout",
     "output_type": "stream",
     "text": [
      "del objects 35\n"
     ]
    }
   ],
   "source": [
    "global_pool = delete_duplicates(global_pool, global_pool.file_name)"
   ]
  },
  {
   "cell_type": "code",
   "execution_count": 31,
   "metadata": {
    "collapsed": true
   },
   "outputs": [],
   "source": [
    "#в некоторых файлах есть ошибки в названии"
   ]
  },
  {
   "cell_type": "code",
   "execution_count": 32,
   "metadata": {
    "collapsed": false
   },
   "outputs": [
    {
     "name": "stdout",
     "output_type": "stream",
     "text": [
      "VE024AWICQ56_1_v1.jpg\n",
      "\n",
      "280\n",
      "middle\n",
      "FA024AWIRU73_1_v1.jp\n",
      "866\n",
      "bottom\n",
      "RI369EWJGH75_1_v1.jpg + \n",
      "1634\n",
      "bottom\n",
      "UN012EWKTU22_1_v1.JPG\n",
      "11107\n",
      "top\n"
     ]
    }
   ],
   "source": [
    "for i in range(0,len(Data)):\n",
    "    if Data.loc[i].top[-1] != 'g':\n",
    "        print Data.loc[i].top\n",
    "        print i\n",
    "        print 'top'\n",
    "    if Data.loc[i].middle[-1] != 'g':\n",
    "        print Data.loc[i].middle\n",
    "        print i\n",
    "        print 'middle'\n",
    "    if Data.loc[i].bottom[-1] != 'g':\n",
    "        print Data.loc[i].bottom\n",
    "        print i\n",
    "        print 'bottom'"
   ]
  },
  {
   "cell_type": "code",
   "execution_count": 33,
   "metadata": {
    "collapsed": false
   },
   "outputs": [],
   "source": [
    "Data.middle.loc[280] = Data.loc[280].middle[0:-1]"
   ]
  },
  {
   "cell_type": "code",
   "execution_count": 34,
   "metadata": {
    "collapsed": false
   },
   "outputs": [],
   "source": [
    "Data.bottom.loc[866] = Data.loc[866].bottom + 'g'"
   ]
  },
  {
   "cell_type": "code",
   "execution_count": 35,
   "metadata": {
    "collapsed": true
   },
   "outputs": [],
   "source": [
    "Data.bottom.loc[1634] = Data.loc[1634].bottom[0:-3]"
   ]
  },
  {
   "cell_type": "code",
   "execution_count": 36,
   "metadata": {
    "collapsed": false
   },
   "outputs": [
    {
     "name": "stdout",
     "output_type": "stream",
     "text": [
      "CPU times: user 9min 56s, sys: 8min 59s, total: 18min 55s\n",
      "Wall time: 18min 57s\n"
     ]
    }
   ],
   "source": [
    "%%time\n",
    "y = list()\n",
    "DATASET = pd.DataFrame(columns=[range(0, 3072)])\n",
    "for i in range(0,len(Data)):\n",
    "    a = global_pool[global_pool.file_name == Data.top[i]].drop(['file_name','path_to_image',\n",
    "                                                               'category', 'brand','type'],1)\n",
    "    b = global_pool[global_pool.file_name == Data.middle[i]].drop(['file_name','path_to_image',\n",
    "                                                               'category', 'brand','type'],1)\n",
    "    c = global_pool[global_pool.file_name == Data.bottom[i]].drop(['file_name','path_to_image',\n",
    "                                                               'category', 'brand','type'],1)\n",
    "    a.columns = [range(0,a.shape[1])]\n",
    "    b.columns = [range(a.shape[1],b.shape[1]*2)]\n",
    "    c.columns = [range(b.shape[1]*2, c.shape[1]*3)]\n",
    "    if((len(c) == len(a)) == len(b)):\n",
    "        c.index = [i]\n",
    "        a.index = [i]\n",
    "        b.index = [i]\n",
    "        DATASET = DATASET.append(a.join(b.join(c)))\n",
    "        y.append(Data.y[i])"
   ]
  },
  {
   "cell_type": "code",
   "execution_count": 37,
   "metadata": {
    "collapsed": false
   },
   "outputs": [],
   "source": [
    "DATASET = pd.concat([Data, DATASET], axis=1, join = 'inner',join_axes=[DATASET.index])"
   ]
  },
  {
   "cell_type": "code",
   "execution_count": 38,
   "metadata": {
    "collapsed": true
   },
   "outputs": [],
   "source": [
    "DATASET.index = range(0,len(DATASET))"
   ]
  },
  {
   "cell_type": "code",
   "execution_count": 39,
   "metadata": {
    "collapsed": false
   },
   "outputs": [
    {
     "data": {
      "text/html": [
       "<div>\n",
       "<table border=\"1\" class=\"dataframe\">\n",
       "  <thead>\n",
       "    <tr style=\"text-align: right;\">\n",
       "      <th></th>\n",
       "      <th>bottom</th>\n",
       "      <th>middle</th>\n",
       "      <th>top</th>\n",
       "      <th>users</th>\n",
       "      <th>y</th>\n",
       "      <th>0</th>\n",
       "      <th>1</th>\n",
       "      <th>2</th>\n",
       "      <th>3</th>\n",
       "      <th>4</th>\n",
       "      <th>...</th>\n",
       "      <th>3062</th>\n",
       "      <th>3063</th>\n",
       "      <th>3064</th>\n",
       "      <th>3065</th>\n",
       "      <th>3066</th>\n",
       "      <th>3067</th>\n",
       "      <th>3068</th>\n",
       "      <th>3069</th>\n",
       "      <th>3070</th>\n",
       "      <th>3071</th>\n",
       "    </tr>\n",
       "  </thead>\n",
       "  <tbody>\n",
       "    <tr>\n",
       "      <th>0</th>\n",
       "      <td>PT001AWNYQ43_4094966_1_v1.jpg</td>\n",
       "      <td>IC647EWMWF91_4177819_1_v1.jpg</td>\n",
       "      <td>OO001EWPJQ27_4190535_1_v2.jpg</td>\n",
       "      <td>alex_test</td>\n",
       "      <td>1.0</td>\n",
       "      <td>1.035404</td>\n",
       "      <td>0.269563</td>\n",
       "      <td>0.143173</td>\n",
       "      <td>0.170981</td>\n",
       "      <td>0.308065</td>\n",
       "      <td>...</td>\n",
       "      <td>2.369041</td>\n",
       "      <td>1.575275</td>\n",
       "      <td>2.060973</td>\n",
       "      <td>1.533488</td>\n",
       "      <td>0.000842</td>\n",
       "      <td>0.168519</td>\n",
       "      <td>1.823179</td>\n",
       "      <td>0.331064</td>\n",
       "      <td>0.059062</td>\n",
       "      <td>0.000000</td>\n",
       "    </tr>\n",
       "    <tr>\n",
       "      <th>1</th>\n",
       "      <td>CA086AWLTL36_1_v1.jpg</td>\n",
       "      <td>IN002EWLKW42_1_v1.jpg</td>\n",
       "      <td>TO029EWMOQ83_3943245_1_v1.jpg</td>\n",
       "      <td>strak</td>\n",
       "      <td>1.0</td>\n",
       "      <td>1.492683</td>\n",
       "      <td>0.064760</td>\n",
       "      <td>0.071014</td>\n",
       "      <td>0.724826</td>\n",
       "      <td>2.543821</td>\n",
       "      <td>...</td>\n",
       "      <td>0.284060</td>\n",
       "      <td>0.086591</td>\n",
       "      <td>0.774355</td>\n",
       "      <td>1.586183</td>\n",
       "      <td>1.768617</td>\n",
       "      <td>0.440139</td>\n",
       "      <td>0.796940</td>\n",
       "      <td>0.066419</td>\n",
       "      <td>0.019898</td>\n",
       "      <td>0.431429</td>\n",
       "    </tr>\n",
       "    <tr>\n",
       "      <th>2</th>\n",
       "      <td>AN003AWKYU95_1_v1.jpg</td>\n",
       "      <td>AL006EWIIB35_1_v1.jpg</td>\n",
       "      <td>BA007EWLBR09_1_v2.jpg</td>\n",
       "      <td>strak</td>\n",
       "      <td>1.0</td>\n",
       "      <td>0.877401</td>\n",
       "      <td>0.075175</td>\n",
       "      <td>1.384997</td>\n",
       "      <td>0.238448</td>\n",
       "      <td>0.599227</td>\n",
       "      <td>...</td>\n",
       "      <td>0.023626</td>\n",
       "      <td>0.081537</td>\n",
       "      <td>0.131171</td>\n",
       "      <td>0.260097</td>\n",
       "      <td>0.030089</td>\n",
       "      <td>0.623181</td>\n",
       "      <td>0.450706</td>\n",
       "      <td>0.000000</td>\n",
       "      <td>0.030349</td>\n",
       "      <td>0.425907</td>\n",
       "    </tr>\n",
       "  </tbody>\n",
       "</table>\n",
       "<p>3 rows × 3077 columns</p>\n",
       "</div>"
      ],
      "text/plain": [
       "                          bottom                         middle  \\\n",
       "0  PT001AWNYQ43_4094966_1_v1.jpg  IC647EWMWF91_4177819_1_v1.jpg   \n",
       "1          CA086AWLTL36_1_v1.jpg          IN002EWLKW42_1_v1.jpg   \n",
       "2          AN003AWKYU95_1_v1.jpg          AL006EWIIB35_1_v1.jpg   \n",
       "\n",
       "                             top      users    y         0         1  \\\n",
       "0  OO001EWPJQ27_4190535_1_v2.jpg  alex_test  1.0  1.035404  0.269563   \n",
       "1  TO029EWMOQ83_3943245_1_v1.jpg      strak  1.0  1.492683  0.064760   \n",
       "2          BA007EWLBR09_1_v2.jpg      strak  1.0  0.877401  0.075175   \n",
       "\n",
       "          2         3         4    ...         3062      3063      3064  \\\n",
       "0  0.143173  0.170981  0.308065    ...     2.369041  1.575275  2.060973   \n",
       "1  0.071014  0.724826  2.543821    ...     0.284060  0.086591  0.774355   \n",
       "2  1.384997  0.238448  0.599227    ...     0.023626  0.081537  0.131171   \n",
       "\n",
       "       3065      3066      3067      3068      3069      3070      3071  \n",
       "0  1.533488  0.000842  0.168519  1.823179  0.331064  0.059062  0.000000  \n",
       "1  1.586183  1.768617  0.440139  0.796940  0.066419  0.019898  0.431429  \n",
       "2  0.260097  0.030089  0.623181  0.450706  0.000000  0.030349  0.425907  \n",
       "\n",
       "[3 rows x 3077 columns]"
      ]
     },
     "execution_count": 39,
     "metadata": {},
     "output_type": "execute_result"
    }
   ],
   "source": [
    "DATASET.head(3)"
   ]
  },
  {
   "cell_type": "code",
   "execution_count": 40,
   "metadata": {
    "collapsed": false
   },
   "outputs": [],
   "source": [
    "DATASET.to_csv('csv/DATASET_3a_global.csv', index=False)"
   ]
  }
 ],
 "metadata": {
  "kernelspec": {
   "display_name": "Python 2",
   "language": "python",
   "name": "python2"
  },
  "language_info": {
   "codemirror_mode": {
    "name": "ipython",
    "version": 2
   },
   "file_extension": ".py",
   "mimetype": "text/x-python",
   "name": "python",
   "nbconvert_exporter": "python",
   "pygments_lexer": "ipython2",
   "version": "2.7.13"
  }
 },
 "nbformat": 4,
 "nbformat_minor": 0
}
