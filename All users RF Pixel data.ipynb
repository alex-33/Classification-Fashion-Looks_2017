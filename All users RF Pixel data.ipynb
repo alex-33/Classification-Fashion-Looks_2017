{
 "cells": [
  {
   "cell_type": "code",
   "execution_count": 1,
   "metadata": {
    "collapsed": true
   },
   "outputs": [],
   "source": [
    "from skimage import io\n",
    "import pandas as pd\n",
    "import numpy as np"
   ]
  },
  {
   "cell_type": "code",
   "execution_count": 2,
   "metadata": {
    "collapsed": true
   },
   "outputs": [],
   "source": [
    "from sklearn import cross_validation, metrics\n",
    "from sklearn.grid_search import RandomizedSearchCV\n",
    "from sklearn.ensemble import RandomForestClassifier"
   ]
  },
  {
   "cell_type": "code",
   "execution_count": 3,
   "metadata": {
    "collapsed": true
   },
   "outputs": [],
   "source": [
    "model = RandomForestClassifier(n_jobs = -1, random_state = 0)\n",
    "parameter_grid = {\n",
    "    'n_estimators' : [50, 100, 150, 200, 350],\n",
    "    'max_depth' : [5, 10, 12, 15, 30],\n",
    "    'min_samples_split' : [2, 4, 8],\n",
    "    'min_samples_leaf' : [1, 2, 5],\n",
    "}"
   ]
  },
  {
   "cell_type": "code",
   "execution_count": 5,
   "metadata": {
    "collapsed": false
   },
   "outputs": [],
   "source": [
    "data = pd.read_csv('csv/DATASET_3a.csv')"
   ]
  },
  {
   "cell_type": "code",
   "execution_count": 6,
   "metadata": {
    "collapsed": false
   },
   "outputs": [],
   "source": [
    "data_good_pixels = pd.DataFrame()#data = [range(0,1964061)])"
   ]
  },
  {
   "cell_type": "code",
   "execution_count": 7,
   "metadata": {
    "collapsed": false
   },
   "outputs": [
    {
     "data": {
      "text/html": [
       "<div>\n",
       "<table border=\"1\" class=\"dataframe\">\n",
       "  <thead>\n",
       "    <tr style=\"text-align: right;\">\n",
       "      <th></th>\n",
       "      <th>bottom</th>\n",
       "      <th>middle</th>\n",
       "      <th>top</th>\n",
       "      <th>users</th>\n",
       "      <th>y</th>\n",
       "    </tr>\n",
       "  </thead>\n",
       "  <tbody>\n",
       "    <tr>\n",
       "      <th>0</th>\n",
       "      <td>shoes/PT001AWNYQ43_4094966_1_v1.jpg</td>\n",
       "      <td>pants/IC647EWMWF91_4177819_1_v1.jpg</td>\n",
       "      <td>jampers/OO001EWPJQ27_4190535_1_v2.jpg</td>\n",
       "      <td>alex_test</td>\n",
       "      <td>1.0</td>\n",
       "    </tr>\n",
       "    <tr>\n",
       "      <th>1</th>\n",
       "      <td>shoes/CA086AWLTL36_1_v1.jpg</td>\n",
       "      <td>pants/IN002EWLKW42_1_v1.jpg</td>\n",
       "      <td>jampers/TO029EWMOQ83_3943245_1_v1.jpg</td>\n",
       "      <td>strak</td>\n",
       "      <td>1.0</td>\n",
       "    </tr>\n",
       "    <tr>\n",
       "      <th>2</th>\n",
       "      <td>high_heels/AN003AWKYU95_1_v1.jpg</td>\n",
       "      <td>jeans/AL006EWIIB35_1_v1.jpg</td>\n",
       "      <td>jampers/BA007EWLBR09_1_v2.jpg</td>\n",
       "      <td>strak</td>\n",
       "      <td>1.0</td>\n",
       "    </tr>\n",
       "  </tbody>\n",
       "</table>\n",
       "</div>"
      ],
      "text/plain": [
       "                                bottom                               middle  \\\n",
       "0  shoes/PT001AWNYQ43_4094966_1_v1.jpg  pants/IC647EWMWF91_4177819_1_v1.jpg   \n",
       "1          shoes/CA086AWLTL36_1_v1.jpg          pants/IN002EWLKW42_1_v1.jpg   \n",
       "2     high_heels/AN003AWKYU95_1_v1.jpg          jeans/AL006EWIIB35_1_v1.jpg   \n",
       "\n",
       "                                     top      users    y  \n",
       "0  jampers/OO001EWPJQ27_4190535_1_v2.jpg  alex_test  1.0  \n",
       "1  jampers/TO029EWMOQ83_3943245_1_v1.jpg      strak  1.0  \n",
       "2          jampers/BA007EWLBR09_1_v2.jpg      strak  1.0  "
      ]
     },
     "execution_count": 7,
     "metadata": {},
     "output_type": "execute_result"
    }
   ],
   "source": [
    "data.head(3)"
   ]
  },
  {
   "cell_type": "code",
   "execution_count": 8,
   "metadata": {
    "collapsed": false
   },
   "outputs": [
    {
     "name": "stdout",
     "output_type": "stream",
     "text": [
      "280\n",
      "CPU times: user 18.5 s, sys: 2.18 s, total: 20.6 s\n",
      "Wall time: 21.7 s\n"
     ]
    }
   ],
   "source": [
    "%%time\n",
    "index_data = 0\n",
    "for index in range(0,500):\n",
    "    try:\n",
    "        img_top = io.imread(path + 'top/' + data.top.loc[index]).ravel()\n",
    "        img_middle = io.imread(path + 'middle/' + data.middle.loc[index]).ravel()\n",
    "        img_bottom = io.imread(path + 'bottom/' + data.bottom.loc[index]).ravel()\n",
    "        data_good_pixels.insert(index_data,index,np.array([img_top, img_middle, img_bottom]).ravel())\n",
    "        index_data = index_data + 1\n",
    "    except:\n",
    "        print str(index)"
   ]
  },
  {
   "cell_type": "code",
   "execution_count": 9,
   "metadata": {
    "collapsed": true
   },
   "outputs": [],
   "source": [
    "data_bad_pixels = pd.DataFrame()"
   ]
  },
  {
   "cell_type": "code",
   "execution_count": 10,
   "metadata": {
    "collapsed": false
   },
   "outputs": [
    {
     "name": "stdout",
     "output_type": "stream",
     "text": [
      "CPU times: user 18.3 s, sys: 2.04 s, total: 20.4 s\n",
      "Wall time: 21.4 s\n"
     ]
    }
   ],
   "source": [
    "%%time\n",
    "index_data = 0\n",
    "for index in range(2000,2500):\n",
    "    try:\n",
    "        img_top = io.imread(path + 'top/' + data.top.loc[index]).ravel()\n",
    "        img_middle = io.imread(path + 'middle/' + data.middle.loc[index]).ravel()\n",
    "        img_bottom = io.imread(path + 'bottom/' + data.bottom.loc[index]).ravel()\n",
    "        data_bad_pixels.insert(index_data,index,np.array([img_top, img_middle, img_bottom]).ravel())\n",
    "        index_data = index_data + 1\n",
    "    except:\n",
    "        print str(index)"
   ]
  },
  {
   "cell_type": "code",
   "execution_count": 11,
   "metadata": {
    "collapsed": false
   },
   "outputs": [],
   "source": [
    "#transform bad and good dataset + y = data"
   ]
  },
  {
   "cell_type": "code",
   "execution_count": 12,
   "metadata": {
    "collapsed": false
   },
   "outputs": [],
   "source": [
    "data_good_pixels = data_good_pixels.transpose()"
   ]
  },
  {
   "cell_type": "code",
   "execution_count": 13,
   "metadata": {
    "collapsed": true
   },
   "outputs": [],
   "source": [
    "data_bad_pixels = data_bad_pixels.transpose()"
   ]
  },
  {
   "cell_type": "code",
   "execution_count": 14,
   "metadata": {
    "collapsed": false
   },
   "outputs": [],
   "source": [
    "y_pos = np.ones(len(data_good_pixels))\n",
    "y_neg = np.zeros(len(data_bad_pixels))"
   ]
  },
  {
   "cell_type": "code",
   "execution_count": 15,
   "metadata": {
    "collapsed": false
   },
   "outputs": [],
   "source": [
    "data_bad_pixels.insert(0,'y',y_neg)\n",
    "data_good_pixels.insert(0,'y',y_pos)"
   ]
  },
  {
   "cell_type": "code",
   "execution_count": 16,
   "metadata": {
    "collapsed": true
   },
   "outputs": [],
   "source": [
    "data = data_good_pixels.append(data_bad_pixels)"
   ]
  },
  {
   "cell_type": "code",
   "execution_count": 17,
   "metadata": {
    "collapsed": false
   },
   "outputs": [
    {
     "name": "stdout",
     "output_type": "stream",
     "text": [
      "CPU times: user 10.9 ms, sys: 132 ms, total: 142 ms\n",
      "Wall time: 143 ms\n"
     ]
    }
   ],
   "source": [
    "%%time\n",
    "del data_bad_pixels\n",
    "del data_good_pixels"
   ]
  },
  {
   "cell_type": "code",
   "execution_count": 18,
   "metadata": {
    "collapsed": false
   },
   "outputs": [],
   "source": [
    "data.index = range(0,len(data))"
   ]
  },
  {
   "cell_type": "markdown",
   "metadata": {},
   "source": [
    "# Train Test"
   ]
  },
  {
   "cell_type": "code",
   "execution_count": 19,
   "metadata": {
    "collapsed": true
   },
   "outputs": [],
   "source": [
    "from sklearn.cross_validation import StratifiedShuffleSplit"
   ]
  },
  {
   "cell_type": "code",
   "execution_count": 22,
   "metadata": {
    "collapsed": false
   },
   "outputs": [
    {
     "name": "stdout",
     "output_type": "stream",
     "text": [
      "CPU times: user 7.5 s, sys: 7.1 s, total: 14.6 s\n",
      "Wall time: 18.1 s\n"
     ]
    }
   ],
   "source": [
    "%%time\n",
    "from sklearn.cross_validation import train_test_split\n",
    "\n",
    "train_X, test_X, train_Y,test_Y = train_test_split(data.drop(['y'],1), data.y, test_size=0.3, random_state=42)"
   ]
  },
  {
   "cell_type": "code",
   "execution_count": 23,
   "metadata": {
    "collapsed": false
   },
   "outputs": [],
   "source": [
    "del data"
   ]
  },
  {
   "cell_type": "code",
   "execution_count": 24,
   "metadata": {
    "collapsed": true
   },
   "outputs": [],
   "source": [
    "random_search_roc_auc = RandomizedSearchCV(model, parameter_grid, n_iter = 5, scoring='roc_auc', \n",
    "                                   cv = cross_validation.StratifiedShuffleSplit(train_Y, n_iter = 5, test_size = 0.3),\n",
    "                                  )"
   ]
  },
  {
   "cell_type": "code",
   "execution_count": 25,
   "metadata": {
    "collapsed": false
   },
   "outputs": [
    {
     "name": "stdout",
     "output_type": "stream",
     "text": [
      "CPU times: user 15min, sys: 4min 37s, total: 19min 37s\n",
      "Wall time: 11min 44s\n"
     ]
    },
    {
     "data": {
      "text/plain": [
       "RandomizedSearchCV(cv=StratifiedShuffleSplit(labels=[ 0.  0. ...,  1.  1.], n_iter=5, test_size=0.3, random_state=None),\n",
       "          error_score='raise',\n",
       "          estimator=RandomForestClassifier(bootstrap=True, class_weight=None, criterion='gini',\n",
       "            max_depth=None, max_features='auto', max_leaf_nodes=None,\n",
       "            min_samples_leaf=1, min_samples_split=2,\n",
       "            min_weight_fraction_leaf=0.0, n_estimators=10, n_jobs=-1,\n",
       "            oob_score=False, random_state=0, verbose=0, warm_start=False),\n",
       "          fit_params={}, iid=True, n_iter=5, n_jobs=1,\n",
       "          param_distributions={'n_estimators': [50, 100, 150, 200, 350], 'min_samples_split': [2, 4, 8], 'max_depth': [5, 10, 12, 15, 30], 'min_samples_leaf': [1, 2, 5]},\n",
       "          pre_dispatch='2*n_jobs', random_state=None, refit=True,\n",
       "          scoring='roc_auc', verbose=0)"
      ]
     },
     "execution_count": 25,
     "metadata": {},
     "output_type": "execute_result"
    }
   ],
   "source": [
    "%%time\n",
    "random_search_roc_auc.fit(train_X, train_Y)"
   ]
  },
  {
   "cell_type": "code",
   "execution_count": 26,
   "metadata": {
    "collapsed": false
   },
   "outputs": [
    {
     "name": "stdout",
     "output_type": "stream",
     "text": [
      "{'n_estimators': 150, 'min_samples_split': 8, 'max_depth': 10, 'min_samples_leaf': 2}\n"
     ]
    }
   ],
   "source": [
    "best_params_roc_auc = random_search_roc_auc.best_params_\n",
    "print best_params_roc_auc"
   ]
  },
  {
   "cell_type": "code",
   "execution_count": 27,
   "metadata": {
    "collapsed": false
   },
   "outputs": [
    {
     "name": "stdout",
     "output_type": "stream",
     "text": [
      "CPU times: user 1min 39s, sys: 26.5 s, total: 2min 5s\n",
      "Wall time: 58.3 s\n"
     ]
    }
   ],
   "source": [
    "%%time\n",
    "final_model_roc_auc = RandomForestClassifier(n_jobs = -1, random_state = 0, **best_params_roc_auc)\n",
    "final_model_roc_auc.fit(train_X, train_Y)"
   ]
  },
  {
   "cell_type": "code",
   "execution_count": 28,
   "metadata": {
    "collapsed": true
   },
   "outputs": [],
   "source": [
    "score = pd.DataFrame(data = [[metrics.accuracy_score(train_Y, final_model_roc_auc.predict(train_X)), metrics.accuracy_score(test_Y, final_model_roc_auc.predict(test_X))],\n",
    "                             [metrics.roc_auc_score(train_Y, final_model_roc_auc.predict(train_X)), metrics.roc_auc_score(test_Y, final_model_roc_auc.predict(test_X))],\n",
    "                            [metrics.average_precision_score(train_Y, final_model_roc_auc.predict(train_X)), metrics.average_precision_score(test_Y, final_model_roc_auc.predict(test_X))]])\n",
    "score.index = ['accuracy','roc_auc','average_precision_score']\n",
    "score.columns = ['train','test']"
   ]
  },
  {
   "cell_type": "code",
   "execution_count": 29,
   "metadata": {
    "collapsed": false
   },
   "outputs": [
    {
     "data": {
      "text/html": [
       "<div>\n",
       "<table border=\"1\" class=\"dataframe\">\n",
       "  <thead>\n",
       "    <tr style=\"text-align: right;\">\n",
       "      <th></th>\n",
       "      <th>train</th>\n",
       "      <th>test</th>\n",
       "    </tr>\n",
       "  </thead>\n",
       "  <tbody>\n",
       "    <tr>\n",
       "      <th>accuracy</th>\n",
       "      <td>0.998569</td>\n",
       "      <td>0.680000</td>\n",
       "    </tr>\n",
       "    <tr>\n",
       "      <th>roc_auc</th>\n",
       "      <td>0.998592</td>\n",
       "      <td>0.681869</td>\n",
       "    </tr>\n",
       "    <tr>\n",
       "      <th>average_precision_score</th>\n",
       "      <td>0.998551</td>\n",
       "      <td>0.768829</td>\n",
       "    </tr>\n",
       "  </tbody>\n",
       "</table>\n",
       "</div>"
      ],
      "text/plain": [
       "                            train      test\n",
       "accuracy                 0.998569  0.680000\n",
       "roc_auc                  0.998592  0.681869\n",
       "average_precision_score  0.998551  0.768829"
      ]
     },
     "execution_count": 29,
     "metadata": {},
     "output_type": "execute_result"
    }
   ],
   "source": [
    "score"
   ]
  },
  {
   "cell_type": "code",
   "execution_count": 30,
   "metadata": {
    "collapsed": false
   },
   "outputs": [
    {
     "name": "stdout",
     "output_type": "stream",
     "text": [
      "             precision    recall  f1-score   support\n",
      "\n",
      "        0.0       0.65      0.74      0.69       145\n",
      "        1.0       0.72      0.63      0.67       155\n",
      "\n",
      "avg / total       0.68      0.68      0.68       300\n",
      "\n"
     ]
    }
   ],
   "source": [
    "print metrics.classification_report(test_Y, final_model_roc_auc.predict(test_X))"
   ]
  },
  {
   "cell_type": "code",
   "execution_count": 31,
   "metadata": {
    "collapsed": false
   },
   "outputs": [
    {
     "name": "stdout",
     "output_type": "stream",
     "text": [
      "Populating the interactive namespace from numpy and matplotlib\n"
     ]
    },
    {
     "data": {
      "text/plain": [
       "<matplotlib.legend.Legend at 0x11baff8d0>"
      ]
     },
     "execution_count": 31,
     "metadata": {},
     "output_type": "execute_result"
    },
    {
     "data": {
      "image/png": "[encoded data removed]",
      "text/plain": [
       "<matplotlib.figure.Figure at 0x11a3b6890>"
      ]
     },
     "metadata": {},
     "output_type": "display_data"
    }
   ],
   "source": [
    "%matplotlib inline\n",
    "%pylab inline\n",
    "fpr_test, tpr_test, _test = metrics.roc_curve(test_Y, final_model_roc_auc.predict_proba(test_X)[:,1])\n",
    "fpr_train, tpr_train, _train = metrics.roc_curve(train_Y, final_model_roc_auc.predict_proba(train_X)[:,1])\n",
    "pylab.axes([0.0,0.0,1,1])\n",
    "pylab.plot(fpr_train ,tpr_train, color = 'green', label = 'train')\n",
    "pylab.plot(fpr_test ,tpr_test, color = 'red', label = 'test')\n",
    "pylab.title('Roc curve')\n",
    "pylab.legend(loc = \"lower right\")"
   ]
  },
  {
   "cell_type": "code",
   "execution_count": 32,
   "metadata": {
    "collapsed": false
   },
   "outputs": [
    {
     "data": {
      "text/html": [
       "<div>\n",
       "<table border=\"1\" class=\"dataframe\">\n",
       "  <thead>\n",
       "    <tr style=\"text-align: right;\">\n",
       "      <th></th>\n",
       "      <th>parameters</th>\n",
       "      <th>mean_validation_score</th>\n",
       "      <th>cv_validation_scores</th>\n",
       "    </tr>\n",
       "  </thead>\n",
       "  <tbody>\n",
       "    <tr>\n",
       "      <th>0</th>\n",
       "      <td>{u'n_estimators': 50, u'min_samples_split': 4,...</td>\n",
       "      <td>0.716940</td>\n",
       "      <td>[0.701161419109, 0.718945649215, 0.71976227202...</td>\n",
       "    </tr>\n",
       "    <tr>\n",
       "      <th>1</th>\n",
       "      <td>{u'n_estimators': 150, u'min_samples_split': 8...</td>\n",
       "      <td>0.736521</td>\n",
       "      <td>[0.773886217222, 0.773614009618, 0.67943017875...</td>\n",
       "    </tr>\n",
       "    <tr>\n",
       "      <th>2</th>\n",
       "      <td>{u'n_estimators': 50, u'min_samples_split': 8,...</td>\n",
       "      <td>0.701152</td>\n",
       "      <td>[0.673895290808, 0.697123672988, 0.70728609019...</td>\n",
       "    </tr>\n",
       "    <tr>\n",
       "      <th>3</th>\n",
       "      <td>{u'n_estimators': 50, u'min_samples_split': 2,...</td>\n",
       "      <td>0.688649</td>\n",
       "      <td>[0.723346338808, 0.674848017421, 0.66414118501...</td>\n",
       "    </tr>\n",
       "    <tr>\n",
       "      <th>4</th>\n",
       "      <td>{u'n_estimators': 100, u'min_samples_split': 2...</td>\n",
       "      <td>0.736485</td>\n",
       "      <td>[0.753107703475, 0.749387532892, 0.75492242083...</td>\n",
       "    </tr>\n",
       "  </tbody>\n",
       "</table>\n",
       "</div>"
      ],
      "text/plain": [
       "                                          parameters  mean_validation_score  \\\n",
       "0  {u'n_estimators': 50, u'min_samples_split': 4,...               0.716940   \n",
       "1  {u'n_estimators': 150, u'min_samples_split': 8...               0.736521   \n",
       "2  {u'n_estimators': 50, u'min_samples_split': 8,...               0.701152   \n",
       "3  {u'n_estimators': 50, u'min_samples_split': 2,...               0.688649   \n",
       "4  {u'n_estimators': 100, u'min_samples_split': 2...               0.736485   \n",
       "\n",
       "                                cv_validation_scores  \n",
       "0  [0.701161419109, 0.718945649215, 0.71976227202...  \n",
       "1  [0.773886217222, 0.773614009618, 0.67943017875...  \n",
       "2  [0.673895290808, 0.697123672988, 0.70728609019...  \n",
       "3  [0.723346338808, 0.674848017421, 0.66414118501...  \n",
       "4  [0.753107703475, 0.749387532892, 0.75492242083...  "
      ]
     },
     "execution_count": 32,
     "metadata": {},
     "output_type": "execute_result"
    }
   ],
   "source": [
    "pd.DataFrame(random_search_roc_auc.grid_scores_)"
   ]
  },
  {
   "cell_type": "code",
   "execution_count": 49,
   "metadata": {
    "collapsed": false
   },
   "outputs": [
    {
     "name": "stdout",
     "output_type": "stream",
     "text": [
      "train class 1 - 344.0\n",
      "test class 1 - 155.0\n",
      "train class 0 - 355.0\n",
      "test class 0 - 145.0\n"
     ]
    }
   ],
   "source": [
    "print 'train class 1 - ' + str(sum(train_Y))\n",
    "print 'test class 1 - ' + str(sum(test_Y))\n",
    "print 'train class 0 - ' + str(len(train_Y) - sum(train_Y))\n",
    "print 'test class 0 - ' + str(len(test_Y) - sum(test_Y))"
   ]
  },
  {
   "cell_type": "code",
   "execution_count": 36,
   "metadata": {
    "collapsed": false
   },
   "outputs": [
    {
     "name": "stdout",
     "output_type": "stream",
     "text": [
      "[ 0.6125      0.65416667  0.74166667  0.7625      0.70833333  0.5952381\n",
      "  0.56666667  0.76190476  0.67619048  0.81904762]\n"
     ]
    }
   ],
   "source": [
    "from sklearn.cross_validation import cross_val_score\n",
    "\n",
    "cvs = cross_val_score(final_model_roc_auc, test_X, test_Y, scoring=\"roc_auc\", cv = 10)\n",
    "print cvs"
   ]
  }
 ],
 "metadata": {
  "kernelspec": {
   "display_name": "Python 2",
   "language": "python",
   "name": "python2"
  },
  "language_info": {
   "codemirror_mode": {
    "name": "ipython",
    "version": 2
   },
   "file_extension": ".py",
   "mimetype": "text/x-python",
   "name": "python",
   "nbconvert_exporter": "python",
   "pygments_lexer": "ipython2",
   "version": "2.7.13"
  }
 },
 "nbformat": 4,
 "nbformat_minor": 0
}
