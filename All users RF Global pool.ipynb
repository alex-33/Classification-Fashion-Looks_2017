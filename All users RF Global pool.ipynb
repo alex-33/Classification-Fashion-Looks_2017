{
 "cells": [
  {
   "cell_type": "code",
   "execution_count": 2,
   "metadata": {
    "collapsed": true
   },
   "outputs": [],
   "source": [
    "from sklearn import cross_validation, metrics\n",
    "from sklearn.grid_search import GridSearchCV\n",
    "from sklearn.ensemble import RandomForestClassifier\n",
    "import pandas as pd\n",
    "from sklearn import metrics"
   ]
  },
  {
   "cell_type": "code",
   "execution_count": 3,
   "metadata": {
    "collapsed": false
   },
   "outputs": [
    {
     "name": "stderr",
     "output_type": "stream",
     "text": [
      "//anaconda/lib/python2.7/site-packages/IPython/core/interactiveshell.py:2723: DtypeWarning: Columns (3) have mixed types. Specify dtype option on import or set low_memory=False.\n",
      "  interactivity=interactivity, compiler=compiler, result=result)\n"
     ]
    }
   ],
   "source": [
    "data = pd.read_csv('csv/DATASET_3a_global.csv')"
   ]
  },
  {
   "cell_type": "code",
   "execution_count": 4,
   "metadata": {
    "collapsed": false
   },
   "outputs": [
    {
     "data": {
      "text/html": [
       "<div>\n",
       "<table border=\"1\" class=\"dataframe\">\n",
       "  <thead>\n",
       "    <tr style=\"text-align: right;\">\n",
       "      <th></th>\n",
       "      <th>bottom</th>\n",
       "      <th>middle</th>\n",
       "      <th>top</th>\n",
       "      <th>users</th>\n",
       "      <th>y</th>\n",
       "      <th>0</th>\n",
       "      <th>1</th>\n",
       "      <th>2</th>\n",
       "      <th>3</th>\n",
       "      <th>4</th>\n",
       "      <th>...</th>\n",
       "      <th>3062</th>\n",
       "      <th>3063</th>\n",
       "      <th>3064</th>\n",
       "      <th>3065</th>\n",
       "      <th>3066</th>\n",
       "      <th>3067</th>\n",
       "      <th>3068</th>\n",
       "      <th>3069</th>\n",
       "      <th>3070</th>\n",
       "      <th>3071</th>\n",
       "    </tr>\n",
       "  </thead>\n",
       "  <tbody>\n",
       "    <tr>\n",
       "      <th>0</th>\n",
       "      <td>PT001AWNYQ43_4094966_1_v1.jpg</td>\n",
       "      <td>IC647EWMWF91_4177819_1_v1.jpg</td>\n",
       "      <td>OO001EWPJQ27_4190535_1_v2.jpg</td>\n",
       "      <td>alex_test</td>\n",
       "      <td>1.0</td>\n",
       "      <td>1.035404</td>\n",
       "      <td>0.269563</td>\n",
       "      <td>0.143173</td>\n",
       "      <td>0.170981</td>\n",
       "      <td>0.308065</td>\n",
       "      <td>...</td>\n",
       "      <td>2.369041</td>\n",
       "      <td>1.575275</td>\n",
       "      <td>2.060973</td>\n",
       "      <td>1.533488</td>\n",
       "      <td>0.000842</td>\n",
       "      <td>0.168519</td>\n",
       "      <td>1.823179</td>\n",
       "      <td>0.331064</td>\n",
       "      <td>0.059062</td>\n",
       "      <td>0.000000</td>\n",
       "    </tr>\n",
       "    <tr>\n",
       "      <th>1</th>\n",
       "      <td>CA086AWLTL36_1_v1.jpg</td>\n",
       "      <td>IN002EWLKW42_1_v1.jpg</td>\n",
       "      <td>TO029EWMOQ83_3943245_1_v1.jpg</td>\n",
       "      <td>strak</td>\n",
       "      <td>1.0</td>\n",
       "      <td>1.492683</td>\n",
       "      <td>0.064760</td>\n",
       "      <td>0.071014</td>\n",
       "      <td>0.724826</td>\n",
       "      <td>2.543821</td>\n",
       "      <td>...</td>\n",
       "      <td>0.284060</td>\n",
       "      <td>0.086591</td>\n",
       "      <td>0.774355</td>\n",
       "      <td>1.586183</td>\n",
       "      <td>1.768617</td>\n",
       "      <td>0.440139</td>\n",
       "      <td>0.796940</td>\n",
       "      <td>0.066419</td>\n",
       "      <td>0.019898</td>\n",
       "      <td>0.431429</td>\n",
       "    </tr>\n",
       "    <tr>\n",
       "      <th>2</th>\n",
       "      <td>AN003AWKYU95_1_v1.jpg</td>\n",
       "      <td>AL006EWIIB35_1_v1.jpg</td>\n",
       "      <td>BA007EWLBR09_1_v2.jpg</td>\n",
       "      <td>strak</td>\n",
       "      <td>1.0</td>\n",
       "      <td>0.877401</td>\n",
       "      <td>0.075175</td>\n",
       "      <td>1.384997</td>\n",
       "      <td>0.238448</td>\n",
       "      <td>0.599227</td>\n",
       "      <td>...</td>\n",
       "      <td>0.023626</td>\n",
       "      <td>0.081537</td>\n",
       "      <td>0.131171</td>\n",
       "      <td>0.260097</td>\n",
       "      <td>0.030089</td>\n",
       "      <td>0.623181</td>\n",
       "      <td>0.450706</td>\n",
       "      <td>0.000000</td>\n",
       "      <td>0.030349</td>\n",
       "      <td>0.425907</td>\n",
       "    </tr>\n",
       "  </tbody>\n",
       "</table>\n",
       "<p>3 rows × 3077 columns</p>\n",
       "</div>"
      ],
      "text/plain": [
       "                          bottom                         middle  \\\n",
       "0  PT001AWNYQ43_4094966_1_v1.jpg  IC647EWMWF91_4177819_1_v1.jpg   \n",
       "1          CA086AWLTL36_1_v1.jpg          IN002EWLKW42_1_v1.jpg   \n",
       "2          AN003AWKYU95_1_v1.jpg          AL006EWIIB35_1_v1.jpg   \n",
       "\n",
       "                             top      users    y         0         1  \\\n",
       "0  OO001EWPJQ27_4190535_1_v2.jpg  alex_test  1.0  1.035404  0.269563   \n",
       "1  TO029EWMOQ83_3943245_1_v1.jpg      strak  1.0  1.492683  0.064760   \n",
       "2          BA007EWLBR09_1_v2.jpg      strak  1.0  0.877401  0.075175   \n",
       "\n",
       "          2         3         4    ...         3062      3063      3064  \\\n",
       "0  0.143173  0.170981  0.308065    ...     2.369041  1.575275  2.060973   \n",
       "1  0.071014  0.724826  2.543821    ...     0.284060  0.086591  0.774355   \n",
       "2  1.384997  0.238448  0.599227    ...     0.023626  0.081537  0.131171   \n",
       "\n",
       "       3065      3066      3067      3068      3069      3070      3071  \n",
       "0  1.533488  0.000842  0.168519  1.823179  0.331064  0.059062  0.000000  \n",
       "1  1.586183  1.768617  0.440139  0.796940  0.066419  0.019898  0.431429  \n",
       "2  0.260097  0.030089  0.623181  0.450706  0.000000  0.030349  0.425907  \n",
       "\n",
       "[3 rows x 3077 columns]"
      ]
     },
     "execution_count": 4,
     "metadata": {},
     "output_type": "execute_result"
    }
   ],
   "source": [
    "data.head(3)"
   ]
  },
  {
   "cell_type": "code",
   "execution_count": 5,
   "metadata": {
    "collapsed": true
   },
   "outputs": [],
   "source": [
    "data = data[0:3600]"
   ]
  },
  {
   "cell_type": "code",
   "execution_count": 25,
   "metadata": {
    "collapsed": false
   },
   "outputs": [],
   "source": [
    "model = RandomForestClassifier(n_jobs = -1, random_state = 0)\n",
    "parameter_grid = {\n",
    "    'n_estimators' : [350, 500, 600],\n",
    "    'max_depth' : [3, 4, 5, 7],\n",
    "    'min_samples_split' : [2, 4, 8],\n",
    "    'min_samples_leaf' : [1, 2, 5],\n",
    "}"
   ]
  },
  {
   "cell_type": "code",
   "execution_count": 26,
   "metadata": {
    "collapsed": true
   },
   "outputs": [],
   "source": [
    "from sklearn.cross_validation import train_test_split\n",
    "\n",
    "train_X, test_X, train_Y,test_Y = train_test_split(data.drop(['y','bottom', 'middle', 'top', 'users'],1), data.y, test_size=0.3, random_state=42)"
   ]
  },
  {
   "cell_type": "code",
   "execution_count": 27,
   "metadata": {
    "collapsed": false
   },
   "outputs": [],
   "source": [
    "random_search_roc_auc = GridSearchCV(model, parameter_grid, scoring='accuracy', \n",
    "                                   cv = cross_validation.StratifiedShuffleSplit(train_Y, n_iter = 3, test_size = 0.3),\n",
    "                                  )"
   ]
  },
  {
   "cell_type": "code",
   "execution_count": 28,
   "metadata": {
    "collapsed": false
   },
   "outputs": [
    {
     "name": "stdout",
     "output_type": "stream",
     "text": [
      "CPU times: user 1h 48min, sys: 1min 50s, total: 1h 49min 51s\n",
      "Wall time: 44min 33s\n"
     ]
    },
    {
     "data": {
      "text/plain": [
       "GridSearchCV(cv=StratifiedShuffleSplit(labels=[ 0.  1. ...,  0.  0.], n_iter=3, test_size=0.3, random_state=None),\n",
       "       error_score='raise',\n",
       "       estimator=RandomForestClassifier(bootstrap=True, class_weight=None, criterion='gini',\n",
       "            max_depth=None, max_features='auto', max_leaf_nodes=None,\n",
       "            min_samples_leaf=1, min_samples_split=2,\n",
       "            min_weight_fraction_leaf=0.0, n_estimators=10, n_jobs=-1,\n",
       "            oob_score=False, random_state=0, verbose=0, warm_start=False),\n",
       "       fit_params={}, iid=True, n_jobs=1,\n",
       "       param_grid={'n_estimators': [350, 500, 600], 'min_samples_split': [2, 4, 8], 'max_depth': [3, 4, 5, 7], 'min_samples_leaf': [1, 2, 5]},\n",
       "       pre_dispatch='2*n_jobs', refit=True, scoring='accuracy', verbose=0)"
      ]
     },
     "execution_count": 28,
     "metadata": {},
     "output_type": "execute_result"
    }
   ],
   "source": [
    "%%time\n",
    "random_search_roc_auc.fit(train_X, train_Y)"
   ]
  },
  {
   "cell_type": "code",
   "execution_count": 29,
   "metadata": {
    "collapsed": false
   },
   "outputs": [
    {
     "name": "stdout",
     "output_type": "stream",
     "text": [
      "{'min_samples_split': 2, 'n_estimators': 350, 'max_depth': 7, 'min_samples_leaf': 5}\n"
     ]
    }
   ],
   "source": [
    "best_params_roc_auc = random_search_roc_auc.best_params_\n",
    "print best_params_roc_auc"
   ]
  },
  {
   "cell_type": "code",
   "execution_count": 30,
   "metadata": {
    "collapsed": false
   },
   "outputs": [
    {
     "name": "stdout",
     "output_type": "stream",
     "text": [
      "CPU times: user 28.3 s, sys: 285 ms, total: 28.6 s\n",
      "Wall time: 10.5 s\n"
     ]
    }
   ],
   "source": [
    "%%time\n",
    "final_model_roc_auc = RandomForestClassifier(n_jobs = -1, random_state = 0, **best_params_roc_auc)\n",
    "final_model_roc_auc.fit(train_X, train_Y)"
   ]
  },
  {
   "cell_type": "code",
   "execution_count": 21,
   "metadata": {
    "collapsed": false
   },
   "outputs": [
    {
     "name": "stdout",
     "output_type": "stream",
     "text": [
      "CPU times: user 24.3 s, sys: 375 ms, total: 24.6 s\n",
      "Wall time: 10.2 s\n"
     ]
    }
   ],
   "source": [
    "%%time\n",
    "final_model_roc_auc = RandomForestClassifier(n_jobs = -1, random_state = 0, n_estimators = 500, max_depth = 5)\n",
    "final_model_roc_auc.fit(train_X, train_Y)"
   ]
  },
  {
   "cell_type": "code",
   "execution_count": 31,
   "metadata": {
    "collapsed": false
   },
   "outputs": [
    {
     "name": "stdout",
     "output_type": "stream",
     "text": [
      "negative 1782\n",
      "positive 1818\n",
      "1246.0\n",
      "1274.0\n",
      "572.0\n",
      "508.0\n"
     ]
    }
   ],
   "source": [
    "print 'negative ' + str(len(data[data.y == 0]))\n",
    "print 'positive ' + str(len(data[data.y == 1]))\n",
    "print sum(train_Y)                 #class 1\n",
    "print len(train_Y) - sum(train_Y)   #class 0\n",
    "print sum(test_Y)\n",
    "print len(test_Y) - sum(test_Y)"
   ]
  },
  {
   "cell_type": "code",
   "execution_count": 32,
   "metadata": {
    "collapsed": true
   },
   "outputs": [],
   "source": [
    "score = pd.DataFrame(data = [[metrics.accuracy_score(train_Y, final_model_roc_auc.predict(train_X)), metrics.accuracy_score(test_Y, final_model_roc_auc.predict(test_X))],\n",
    "                             [metrics.roc_auc_score(train_Y, final_model_roc_auc.predict(train_X)), metrics.roc_auc_score(test_Y, final_model_roc_auc.predict(test_X))],\n",
    "                            [metrics.average_precision_score(train_Y, final_model_roc_auc.predict(train_X)), metrics.average_precision_score(test_Y, final_model_roc_auc.predict(test_X))]])\n",
    "score.index = ['accuracy','roc_auc','average_precision_score']\n",
    "score.columns = ['train','test']"
   ]
  },
  {
   "cell_type": "code",
   "execution_count": 33,
   "metadata": {
    "collapsed": false
   },
   "outputs": [
    {
     "data": {
      "text/html": [
       "<div>\n",
       "<table border=\"1\" class=\"dataframe\">\n",
       "  <thead>\n",
       "    <tr style=\"text-align: right;\">\n",
       "      <th></th>\n",
       "      <th>train</th>\n",
       "      <th>test</th>\n",
       "    </tr>\n",
       "  </thead>\n",
       "  <tbody>\n",
       "    <tr>\n",
       "      <th>accuracy</th>\n",
       "      <td>0.951984</td>\n",
       "      <td>0.723148</td>\n",
       "    </tr>\n",
       "    <tr>\n",
       "      <th>roc_auc</th>\n",
       "      <td>0.951789</td>\n",
       "      <td>0.726743</td>\n",
       "    </tr>\n",
       "    <tr>\n",
       "      <th>average_precision_score</th>\n",
       "      <td>0.967155</td>\n",
       "      <td>0.811038</td>\n",
       "    </tr>\n",
       "  </tbody>\n",
       "</table>\n",
       "</div>"
      ],
      "text/plain": [
       "                            train      test\n",
       "accuracy                 0.951984  0.723148\n",
       "roc_auc                  0.951789  0.726743\n",
       "average_precision_score  0.967155  0.811038"
      ]
     },
     "execution_count": 33,
     "metadata": {},
     "output_type": "execute_result"
    }
   ],
   "source": [
    "score"
   ]
  },
  {
   "cell_type": "code",
   "execution_count": 34,
   "metadata": {
    "collapsed": false
   },
   "outputs": [
    {
     "name": "stdout",
     "output_type": "stream",
     "text": [
      "             precision    recall  f1-score   support\n",
      "\n",
      "        0.0       0.68      0.79      0.73       508\n",
      "        1.0       0.78      0.67      0.72       572\n",
      "\n",
      "avg / total       0.73      0.72      0.72      1080\n",
      "\n"
     ]
    }
   ],
   "source": [
    "print metrics.classification_report(test_Y, final_model_roc_auc.predict(test_X))"
   ]
  },
  {
   "cell_type": "code",
   "execution_count": 58,
   "metadata": {
    "collapsed": false
   },
   "outputs": [
    {
     "name": "stdout",
     "output_type": "stream",
     "text": [
      "Populating the interactive namespace from numpy and matplotlib\n"
     ]
    },
    {
     "data": {
      "text/plain": [
       "<matplotlib.legend.Legend at 0x11e3f17d0>"
      ]
     },
     "execution_count": 58,
     "metadata": {},
     "output_type": "execute_result"
    },
    {
     "data": {
      "image/png": "[encoded data removed]",
      "text/plain": [
       "<matplotlib.figure.Figure at 0x11e441a90>"
      ]
     },
     "metadata": {},
     "output_type": "display_data"
    }
   ],
   "source": [
    "%matplotlib inline\n",
    "%pylab inline\n",
    "fpr_test, tpr_test, _test = metrics.roc_curve(test_Y, final_model_roc_auc.predict_proba(test_X)[:,1])\n",
    "fpr_train, tpr_train, _train = metrics.roc_curve(train_Y, final_model_roc_auc.predict_proba(train_X)[:,1])\n",
    "pylab.axes([0.0,0.0,1,1])\n",
    "pylab.plot(fpr_train ,tpr_train, color = 'green', label = 'train')\n",
    "pylab.plot(fpr_test ,tpr_test, color = 'red', label = 'test')\n",
    "pylab.title('Roc curve')\n",
    "pylab.legend(loc = \"lower right\")"
   ]
  },
  {
   "cell_type": "code",
   "execution_count": null,
   "metadata": {
    "collapsed": true
   },
   "outputs": [],
   "source": []
  },
  {
   "cell_type": "code",
   "execution_count": 59,
   "metadata": {
    "collapsed": false
   },
   "outputs": [
    {
     "data": {
      "text/plain": [
       "<matplotlib.legend.Legend at 0x11cdc9c50>"
      ]
     },
     "execution_count": 59,
     "metadata": {},
     "output_type": "execute_result"
    },
    {
     "data": {
      "image/png": "[encoded data removed]",
      "text/plain": [
       "<matplotlib.figure.Figure at 0x11d83a6d0>"
      ]
     },
     "metadata": {},
     "output_type": "display_data"
    }
   ],
   "source": [
    "precision_test, recall_test, thresholds_test = metrics.precision_recall_curve(test_Y, final_model_roc_auc.predict_proba(test_X)[:,1])\n",
    "precision_train, recall_train, thresholds_train = metrics.precision_recall_curve(train_Y, final_model_roc_auc.predict_proba(train_X)[:,1])\n",
    "pylab.axes([0.0,0.0,1,1])\n",
    "pylab.plot(recall_train ,precision_train, color = 'green', label = 'train')\n",
    "pylab.plot(recall_test ,precision_test, color = 'red', label = 'test')\n",
    "pylab.title('precision recall curve')\n",
    "pylab.legend(loc = \"lower left\")\n"
   ]
  },
  {
   "cell_type": "code",
   "execution_count": 60,
   "metadata": {
    "collapsed": false
   },
   "outputs": [],
   "source": [
    "train_data = pd.DataFrame(data = numpy.asarray([train_Y.index, train_Y, final_model_roc_auc.predict(train_X)]).T, columns = ['index','real_y','predict_y'])\n",
    "test_data = pd.DataFrame(data = numpy.asarray([test_Y.index, test_Y, final_model_roc_auc.predict(test_X)]).T, columns = ['index','real_y','predict_y'])"
   ]
  },
  {
   "cell_type": "code",
   "execution_count": 61,
   "metadata": {
    "collapsed": false
   },
   "outputs": [],
   "source": [
    "train_data.to_csv('csv/train_global_all_users.csv')\n",
    "test_data.to_csv('csv/test_global_all_users.csv')"
   ]
  },
  {
   "cell_type": "code",
   "execution_count": 62,
   "metadata": {
    "collapsed": false
   },
   "outputs": [
    {
     "data": {
      "text/html": [
       "<div>\n",
       "<table border=\"1\" class=\"dataframe\">\n",
       "  <thead>\n",
       "    <tr style=\"text-align: right;\">\n",
       "      <th></th>\n",
       "      <th>parameters</th>\n",
       "      <th>mean_validation_score</th>\n",
       "      <th>cv_validation_scores</th>\n",
       "    </tr>\n",
       "  </thead>\n",
       "  <tbody>\n",
       "    <tr>\n",
       "      <th>0</th>\n",
       "      <td>{u'n_estimators': 150, u'min_samples_split': 4...</td>\n",
       "      <td>0.689418</td>\n",
       "      <td>[0.694444444444, 0.693121693122, 0.68783068783...</td>\n",
       "    </tr>\n",
       "    <tr>\n",
       "      <th>1</th>\n",
       "      <td>{u'n_estimators': 200, u'min_samples_split': 2...</td>\n",
       "      <td>0.713228</td>\n",
       "      <td>[0.695767195767, 0.747354497354, 0.70238095238...</td>\n",
       "    </tr>\n",
       "    <tr>\n",
       "      <th>2</th>\n",
       "      <td>{u'n_estimators': 500, u'min_samples_split': 4...</td>\n",
       "      <td>0.722487</td>\n",
       "      <td>[0.723544973545, 0.724867724868, 0.73015873015...</td>\n",
       "    </tr>\n",
       "    <tr>\n",
       "      <th>3</th>\n",
       "      <td>{u'n_estimators': 200, u'min_samples_split': 2...</td>\n",
       "      <td>0.704762</td>\n",
       "      <td>[0.687830687831, 0.716931216931, 0.70238095238...</td>\n",
       "    </tr>\n",
       "    <tr>\n",
       "      <th>4</th>\n",
       "      <td>{u'n_estimators': 600, u'min_samples_split': 2...</td>\n",
       "      <td>0.667725</td>\n",
       "      <td>[0.674603174603, 0.689153439153, 0.66666666666...</td>\n",
       "    </tr>\n",
       "    <tr>\n",
       "      <th>5</th>\n",
       "      <td>{u'n_estimators': 200, u'min_samples_split': 8...</td>\n",
       "      <td>0.722751</td>\n",
       "      <td>[0.695767195767, 0.715608465608, 0.74603174603...</td>\n",
       "    </tr>\n",
       "    <tr>\n",
       "      <th>6</th>\n",
       "      <td>{u'n_estimators': 150, u'min_samples_split': 8...</td>\n",
       "      <td>0.719048</td>\n",
       "      <td>[0.731481481481, 0.732804232804, 0.71164021164...</td>\n",
       "    </tr>\n",
       "  </tbody>\n",
       "</table>\n",
       "</div>"
      ],
      "text/plain": [
       "                                          parameters  mean_validation_score  \\\n",
       "0  {u'n_estimators': 150, u'min_samples_split': 4...               0.689418   \n",
       "1  {u'n_estimators': 200, u'min_samples_split': 2...               0.713228   \n",
       "2  {u'n_estimators': 500, u'min_samples_split': 4...               0.722487   \n",
       "3  {u'n_estimators': 200, u'min_samples_split': 2...               0.704762   \n",
       "4  {u'n_estimators': 600, u'min_samples_split': 2...               0.667725   \n",
       "5  {u'n_estimators': 200, u'min_samples_split': 8...               0.722751   \n",
       "6  {u'n_estimators': 150, u'min_samples_split': 8...               0.719048   \n",
       "\n",
       "                                cv_validation_scores  \n",
       "0  [0.694444444444, 0.693121693122, 0.68783068783...  \n",
       "1  [0.695767195767, 0.747354497354, 0.70238095238...  \n",
       "2  [0.723544973545, 0.724867724868, 0.73015873015...  \n",
       "3  [0.687830687831, 0.716931216931, 0.70238095238...  \n",
       "4  [0.674603174603, 0.689153439153, 0.66666666666...  \n",
       "5  [0.695767195767, 0.715608465608, 0.74603174603...  \n",
       "6  [0.731481481481, 0.732804232804, 0.71164021164...  "
      ]
     },
     "execution_count": 62,
     "metadata": {},
     "output_type": "execute_result"
    }
   ],
   "source": [
    "pd.DataFrame(random_search_roc_auc.grid_scores_)"
   ]
  }
 ],
 "metadata": {
  "kernelspec": {
   "display_name": "Python 2",
   "language": "python",
   "name": "python2"
  },
  "language_info": {
   "codemirror_mode": {
    "name": "ipython",
    "version": 2
   },
   "file_extension": ".py",
   "mimetype": "text/x-python",
   "name": "python",
   "nbconvert_exporter": "python",
   "pygments_lexer": "ipython2",
   "version": "2.7.13"
  }
 },
 "nbformat": 4,
 "nbformat_minor": 0
}
